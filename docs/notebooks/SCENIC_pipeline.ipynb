{
 "cells": [
  {
   "cell_type": "code",
   "execution_count": 3,
   "id": "b3b40717-9fb5-4ef4-8733-6fb7f4dff658",
   "metadata": {
    "tags": []
   },
   "outputs": [],
   "source": [
    "# import dependencies\n",
    "import os\n",
    "import numpy as np\n",
    "import pandas as pd\n",
    "import scanpy as sc\n",
    "import loompy as lp"
   ]
  },
  {
   "cell_type": "code",
   "execution_count": 4,
   "id": "286984e3-5844-418b-bd2e-70eda9c109a1",
   "metadata": {
    "tags": []
   },
   "outputs": [
    {
     "name": "stdout",
     "output_type": "stream",
     "text": [
      "-----\n",
      "anndata     0.11.3\n",
      "scanpy      1.10.4\n",
      "-----\n",
      "PIL                         11.1.0\n",
      "anyio                       NA\n",
      "arrow                       1.3.0\n",
      "asttokens                   NA\n",
      "attr                        23.1.0\n",
      "attrs                       23.1.0\n",
      "babel                       2.17.0\n",
      "certifi                     2023.07.22\n",
      "cffi                        1.17.1\n",
      "charset_normalizer          3.2.0\n",
      "cloudpickle                 3.1.1\n",
      "colorama                    0.4.6\n",
      "comm                        0.2.2\n",
      "cycler                      0.12.1\n",
      "cython_runtime              NA\n",
      "cytoolz                     1.0.1\n",
      "dask                        2024.2.1\n",
      "dateutil                    2.9.0.post0\n",
      "debugpy                     1.8.12\n",
      "decorator                   5.1.1\n",
      "defusedxml                  0.7.1\n",
      "exceptiongroup              1.2.2\n",
      "executing                   2.2.0\n",
      "fastjsonschema              NA\n",
      "fqdn                        NA\n",
      "h5py                        3.12.1\n",
      "idna                        3.4\n",
      "ipykernel                   6.29.5\n",
      "isoduration                 NA\n",
      "jedi                        0.19.2\n",
      "jinja2                      3.1.5\n",
      "joblib                      1.4.2\n",
      "json5                       0.10.0\n",
      "jsonpointer                 3.0.0\n",
      "jsonschema                  4.19.0\n",
      "jsonschema_specifications   NA\n",
      "jupyter_events              0.12.0\n",
      "jupyter_server              2.15.0\n",
      "jupyterlab_server           2.27.3\n",
      "kiwisolver                  1.4.8\n",
      "legacy_api_wrap             NA\n",
      "llvmlite                    0.39.1\n",
      "loompy                      3.0.8\n",
      "lz4                         4.4.3\n",
      "markupsafe                  2.1.3\n",
      "matplotlib                  3.10.0\n",
      "mpl_toolkits                NA\n",
      "natsort                     8.4.0\n",
      "nbformat                    5.9.2\n",
      "numba                       0.56.4\n",
      "numexpr                     2.10.2\n",
      "numpy                       1.23.5\n",
      "numpy_groupies              0.11.2\n",
      "overrides                   NA\n",
      "packaging                   24.2\n",
      "pandas                      2.2.3\n",
      "parso                       0.8.4\n",
      "platformdirs                4.3.6\n",
      "prometheus_client           NA\n",
      "prompt_toolkit              3.0.50\n",
      "psutil                      6.1.1\n",
      "pure_eval                   0.2.3\n",
      "pyarrow                     19.0.0\n",
      "pycparser                   2.22\n",
      "pydev_ipython               NA\n",
      "pydevconsole                NA\n",
      "pydevd                      3.2.3\n",
      "pydevd_file_utils           NA\n",
      "pydevd_plugins              NA\n",
      "pydevd_tracing              NA\n",
      "pygments                    2.19.1\n",
      "pyparsing                   3.2.1\n",
      "pythonjsonlogger            NA\n",
      "pytz                        2025.1\n",
      "referencing                 NA\n",
      "requests                    2.31.0\n",
      "rfc3339_validator           0.1.4\n",
      "rfc3986_validator           0.1.1\n",
      "rpds                        NA\n",
      "scipy                       1.15.1\n",
      "send2trash                  NA\n",
      "session_info                1.0.0\n",
      "six                         1.17.0\n",
      "sklearn                     1.6.1\n",
      "sniffio                     1.3.1\n",
      "stack_data                  0.6.3\n",
      "tblib                       3.0.0\n",
      "threadpoolctl               3.5.0\n",
      "tlz                         1.0.1\n",
      "toolz                       1.0.0\n",
      "tornado                     6.3.3\n",
      "traitlets                   5.14.3\n",
      "typing_extensions           NA\n",
      "uri_template                NA\n",
      "urllib3                     2.0.4\n",
      "wcwidth                     0.2.13\n",
      "webcolors                   NA\n",
      "websocket                   1.8.0\n",
      "yaml                        6.0.2\n",
      "zipp                        NA\n",
      "zmq                         25.1.1\n",
      "zoneinfo                    NA\n",
      "-----\n",
      "IPython             8.32.0\n",
      "jupyter_client      8.3.0\n",
      "jupyter_core        5.3.1\n",
      "jupyterlab          4.3.5\n",
      "-----\n",
      "Python 3.10.16 | packaged by conda-forge | (main, Dec  5 2024, 14:16:10) [GCC 13.3.0]\n",
      "Linux-5.14.0-427.37.1.el9_4.x86_64-x86_64-with-glibc2.34\n",
      "-----\n",
      "Session information updated at 2025-03-26 20:44\n"
     ]
    }
   ],
   "source": [
    "sc.settings.verbosity = 3 # verbosity: errors (0), warnings (1), info (2), hints (3)\n",
    "sc.logging.print_versions()\n",
    "sc.set_figure_params(dpi=150, fontsize=10, dpi_save=600)"
   ]
  },
  {
   "cell_type": "markdown",
   "id": "943265ea-267c-4c47-b00c-28ef7fbd8ab2",
   "metadata": {},
   "source": [
    "## Preprocessing"
   ]
  },
  {
   "cell_type": "code",
   "execution_count": 5,
   "id": "6f4a000b-455a-4625-a3e2-c0b2bafc5cea",
   "metadata": {
    "tags": []
   },
   "outputs": [],
   "source": [
    "adata=sc.read(\"/lustre/groups/ml01/workspace/weixu.wang/regvelo_revision/10x_shallow_NCC/NCC_analysis_processed.h5ad\")"
   ]
  },
  {
   "cell_type": "code",
   "execution_count": 6,
   "id": "b7ce4c29-e8b3-428d-a930-469a155bd6f0",
   "metadata": {
    "tags": []
   },
   "outputs": [
    {
     "data": {
      "text/plain": [
       "AnnData object with n_obs × n_vars = 6788 × 30717\n",
       "    obs: 'nCount_RNA', 'nFeature_RNA', 'cell_id', 'UMI_count', 'gene_count', 'major_trajectory', 'celltype_update', 'UMAP_1', 'UMAP_2', 'UMAP_3', 'UMAP_2d_1', 'UMAP_2d_2', 'terminal_state', 'nCount_intron', 'nFeature_intron'\n",
       "    var: 'vf_vst_counts_mean', 'vf_vst_counts_variance', 'vf_vst_counts_variance.expected', 'vf_vst_counts_variance.standardized', 'vf_vst_counts_variable', 'vf_vst_counts_rank', 'var.features', 'var.features.rank'\n",
       "    obsm: 'X_pca', 'X_umap'"
      ]
     },
     "execution_count": 6,
     "metadata": {},
     "output_type": "execute_result"
    }
   ],
   "source": [
    "adata"
   ]
  },
  {
   "cell_type": "code",
   "execution_count": 7,
   "id": "56baecec-0ee1-4f30-bddb-31426b2e3b35",
   "metadata": {
    "tags": []
   },
   "outputs": [],
   "source": [
    "adata=sc.AnnData(adata.X,obs=adata.obs,var=adata.var)\n",
    "adata.var[\"Gene\"]=adata.var_names\n",
    "adata.obs[\"CellID\"]=adata.obs_names"
   ]
  },
  {
   "cell_type": "code",
   "execution_count": 6,
   "id": "31d7038e-3597-4623-b44c-e37e6fb49fee",
   "metadata": {
    "tags": []
   },
   "outputs": [],
   "source": [
    "adata.write_loom(\"/lustre/groups/ml01/workspace/weixu.wang/regvelo_revision/10x_shallow_NCC/adata.loom\")"
   ]
  },
  {
   "cell_type": "markdown",
   "id": "2005e02a-abb1-4db9-b944-fe9fdb8ac9f5",
   "metadata": {},
   "source": [
    "## SCENIC step"
   ]
  },
  {
   "cell_type": "code",
   "execution_count": 8,
   "id": "64e1477e-6539-4605-abbf-c7f72ddfb8dc",
   "metadata": {
    "tags": []
   },
   "outputs": [],
   "source": [
    "f_loom_path_scenic = \"/lustre/groups/ml01/workspace/weixu.wang/regvelo_revision/10x_shallow_NCC/adata.loom\"\n",
    "f_tfs = \"/home/icb/weixu.wang/regulatory_velo/pancreas_dataset/allTFs_mm.txt\""
   ]
  },
  {
   "cell_type": "code",
   "execution_count": null,
   "id": "6426c2fe-a664-479e-9113-45fbfb62bcef",
   "metadata": {
    "tags": []
   },
   "outputs": [
    {
     "name": "stdout",
     "output_type": "stream",
     "text": [
      "\n",
      "2025-02-26 22:52:46,146 - pyscenic.cli.pyscenic - INFO - Loading expression matrix.\n",
      "\n",
      "2025-02-26 22:52:48,844 - pyscenic.cli.pyscenic - INFO - Inferring regulatory networks.\n",
      "preparing dask client\n",
      "parsing input\n",
      "creating dask graph\n",
      "24 partitions\n",
      "computing dask graph\n",
      "/home/icb/weixu.wang/miniconda3/envs/pyscenic/lib/python3.10/site-packages/distributed/client.py:3169: UserWarning: Sending large graph of size 0.95 GiB.\n",
      "This may cause some slowdown.\n",
      "Consider scattering data ahead of time and using futures.\n",
      "  warnings.warn(\n"
     ]
    }
   ],
   "source": [
    "!pyscenic grn {f_loom_path_scenic} {f_tfs} -o \"/lustre/groups/ml01/workspace/weixu.wang/regvelo_revision/10x_shallow_NCC/adj.csv\" --num_workers 24"
   ]
  },
  {
   "cell_type": "code",
   "execution_count": 9,
   "id": "1f9fc0ba-0012-48eb-bcbd-3f859dcc37a8",
   "metadata": {
    "tags": []
   },
   "outputs": [],
   "source": [
    "import glob\n",
    "# ranking databases\n",
    "f_db_glob = \"/lustre/groups/ml01/workspace/weixu.wang/regvelo_revision/scale_zebrafish/scenic/cisTarget_databases/*feather\"\n",
    "f_db_names = ' '.join( glob.glob(f_db_glob) )\n",
    "\n",
    "# motif databases\n",
    "f_motif_path = \"/lustre/groups/ml01/workspace/weixu.wang/regvelo_revision/scale_zebrafish/scenic/cisTarget_databases/motifs-v9-nr.mgi-m0.001-o0.0.tbl\""
   ]
  },
  {
   "cell_type": "code",
   "execution_count": null,
   "id": "e1bdaf1e-91e2-49ff-91fd-4143bbdc032a",
   "metadata": {
    "tags": []
   },
   "outputs": [],
   "source": [
    "!pyscenic ctx \"/lustre/groups/ml01/workspace/weixu.wang/regvelo_revision/10x_shallow_NCC/adj.csv\" \\\n",
    "    {f_db_names} \\\n",
    "    --annotations_fname {f_motif_path} \\\n",
    "    --expression_mtx_fname {f_loom_path_scenic} \\\n",
    "    --output \"/lustre/groups/ml01/workspace/weixu.wang/regvelo_revision/10x_shallow_NCC/reg.csv\" \\\n",
    "    --all_modules \\\n",
    "    --num_workers 24"
   ]
  },
  {
   "cell_type": "code",
   "execution_count": null,
   "id": "6c2f499b-b032-4afd-bb12-57eae82d9a46",
   "metadata": {
    "tags": []
   },
   "outputs": [],
   "source": [
    "f_pyscenic_output = \"/lustre/groups/ml01/workspace/weixu.wang/regvelo_revision/10x_shallow_NCC/pyscenic_output_all_regulon_no_mask.loom\""
   ]
  },
  {
   "cell_type": "code",
   "execution_count": null,
   "id": "db083910-2345-4e39-8ddd-ff14f210c498",
   "metadata": {
    "tags": []
   },
   "outputs": [],
   "source": [
    "!pyscenic aucell \\\n",
    "    {f_loom_path_scenic} \\\n",
    "    \"/lustre/groups/ml01/workspace/weixu.wang/regvelo_revision/10x_shallow_NCC/reg.csv\" \\\n",
    "    --output {f_pyscenic_output} \\\n",
    "    --num_workers 4"
   ]
  },
  {
   "cell_type": "code",
   "execution_count": 26,
   "id": "fbba0c0c-109a-4112-a1eb-340c3942a3b7",
   "metadata": {
    "tags": []
   },
   "outputs": [],
   "source": [
    "import loompy as lp\n",
    "import pandas as pd\n",
    "lf = lp.connect(f_pyscenic_output, mode='r+', validate=False )\n",
    "#exprMat = pd.DataFrame( lf[:,:], index=lf.ra.Gene, columns=lf.ca.CellID)\n",
    "auc_mtx = pd.DataFrame( lf.ca.RegulonsAUC, index=lf.ca.CellID)\n",
    "regulons = lf.ra.Regulons"
   ]
  },
  {
   "cell_type": "code",
   "execution_count": 27,
   "id": "7a0925e3-d1da-4158-a54a-44535613c6c0",
   "metadata": {
    "tags": []
   },
   "outputs": [],
   "source": [
    "res=pd.concat([pd.Series(r.tolist(),index=regulons.dtype.names) for r in regulons],axis=1)"
   ]
  },
  {
   "cell_type": "code",
   "execution_count": 28,
   "id": "9e20ba8d-7d6b-4cba-8bf3-eb0111ccc59c",
   "metadata": {
    "tags": []
   },
   "outputs": [],
   "source": [
    "res.columns=lf.row_attrs[\"SYMBOL\"]"
   ]
  },
  {
   "cell_type": "code",
   "execution_count": 31,
   "id": "4ee74122-d1e7-4cce-be0f-c5b85ab15f3f",
   "metadata": {
    "tags": []
   },
   "outputs": [],
   "source": [
    "res.to_csv(\"/lustre/groups/ml01/workspace/weixu.wang/regvelo_revision/10x_shallow_NCC/regulon_mat_all_regulons_no_mask.csv\")"
   ]
  },
  {
   "cell_type": "markdown",
   "id": "512bff3d-6cfb-4dd0-a332-703f867943af",
   "metadata": {},
   "source": [
    "## Preprocessing GRN"
   ]
  },
  {
   "cell_type": "code",
   "execution_count": 76,
   "id": "dd55d3a2-f98e-42a3-849a-22471675db2d",
   "metadata": {
    "tags": []
   },
   "outputs": [
    {
     "name": "stdout",
     "output_type": "stream",
     "text": [
      "Done! processed GRN with 543 TF and 30717 targets\n"
     ]
    }
   ],
   "source": [
    "reg = pd.read_csv(\"/lustre/groups/ml01/workspace/weixu.wang/regvelo_revision/10x_shallow_NCC/regulon_mat_all_regulons.csv\",index_col = 0)\n",
    "\n",
    "reg.index = reg.index.str.extract(r\"(\\w+)\")[0]\n",
    "reg = reg.groupby(reg.index).sum()\n",
    "reg[reg != 0] = 1\n",
    "\n",
    "TF = np.unique(list(map(lambda x: x.split(\"(\")[0],reg.index.tolist())))\n",
    "genes = np.unique(TF.tolist()+reg.columns.tolist())\n",
    "\n",
    "GRN = pd.DataFrame(0,index = genes,columns = genes)\n",
    "GRN.loc[TF,reg.columns.tolist()] = np.array(reg)\n",
    "\n",
    "mask = (GRN.sum(0) != 0) | (GRN.sum(1) != 0)\n",
    "GRN = GRN.loc[mask,mask].copy()\n",
    "\n",
    "GRN.to_parquet(\"/lustre/groups/ml01/workspace/weixu.wang/regvelo_revision/10x_shallow_NCC/regulon_mat_processed_all_regulons.parquet\")\n",
    "print(\"Done! processed GRN with \"+str(reg.shape[0])+\" TF and \"+str(reg.shape[1])+\" targets\")"
   ]
  },
  {
   "cell_type": "code",
   "execution_count": null,
   "id": "5a5ff903-a13d-400c-9dcc-d2d75bd4d4f7",
   "metadata": {},
   "outputs": [],
   "source": []
  }
 ],
 "metadata": {
  "kernelspec": {
   "display_name": "Python [conda env:pyscenic]",
   "language": "python",
   "name": "conda-env-pyscenic-py"
  },
  "language_info": {
   "codemirror_mode": {
    "name": "ipython",
    "version": 3
   },
   "file_extension": ".py",
   "mimetype": "text/x-python",
   "name": "python",
   "nbconvert_exporter": "python",
   "pygments_lexer": "ipython3",
   "version": "3.10.16"
  }
 },
 "nbformat": 4,
 "nbformat_minor": 5
}
